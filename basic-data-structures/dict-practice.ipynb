{
 "cells": [
  {
   "cell_type": "markdown",
   "metadata": {},
   "source": [
    "Python dictionaries follow the same structure as Javascript objects. \n",
    "\n",
    "\"Dictionary is a collection which is ordered** and changeable. No duplicate members.\""
   ]
  },
  {
   "cell_type": "code",
   "execution_count": null,
   "metadata": {},
   "outputs": [],
   "source": [
    "# setup\n",
    "user = {\n",
    "    \"firstName\": \"Billy\",\n",
    "    \"lastName\": \"Taggart\",\n",
    "    \"email\": \"billy@pursuit.com\"\n",
    "}"
   ]
  },
  {
   "cell_type": "markdown",
   "metadata": {},
   "source": [
    "Here are the two ways to quickly add elements to dictionaries..."
   ]
  },
  {
   "cell_type": "code",
   "execution_count": null,
   "metadata": {},
   "outputs": [],
   "source": [
    "user['phoneNumber'] = '3032579853'\n",
    "\n",
    "# or\n",
    "\n",
    "user.update({\n",
    "    \"firstName\": \"William\",\n",
    "    \"middleName\": \"Polacheck\"\n",
    "})\n",
    "\n",
    "print(user)"
   ]
  },
  {
   "cell_type": "markdown",
   "metadata": {},
   "source": [
    "And here are the two ways to quickly delete elements from dictionaries..."
   ]
  },
  {
   "cell_type": "code",
   "execution_count": null,
   "metadata": {},
   "outputs": [],
   "source": [
    "user.pop('phoneNumber')\n",
    "\n",
    "# or\n",
    "\n",
    "del user['middleName']"
   ]
  },
  {
   "cell_type": "markdown",
   "metadata": {},
   "source": [
    "Now lets look at iterating through a dictionary."
   ]
  },
  {
   "cell_type": "code",
   "execution_count": null,
   "metadata": {},
   "outputs": [],
   "source": [
    "for i in user: \n",
    "    # this will loop through all of the keys in the user dictionary\n",
    "    print(i)"
   ]
  },
  {
   "cell_type": "markdown",
   "metadata": {},
   "source": [
    "However we have three methods at our disposal to determine which iterable to loop through"
   ]
  },
  {
   "cell_type": "code",
   "execution_count": null,
   "metadata": {},
   "outputs": [],
   "source": [
    "# returns an iterable of keys in the dict\n",
    "print(user.keys())\n",
    "\n",
    "# returns an iterable of the values in the dict\n",
    "print(user.values())\n",
    "\n",
    "# returns an iterable of tuples (key, value) in the dict\n",
    "print(user.items())"
   ]
  },
  {
   "cell_type": "markdown",
   "metadata": {},
   "source": [
    "Each of these methods can be used in conjunction with a for loop so you can loop over keys, values, or tuples of key, value"
   ]
  },
  {
   "cell_type": "code",
   "execution_count": null,
   "metadata": {},
   "outputs": [],
   "source": [
    "# quick plug for using tuples\n",
    "user['phoneNumber'] = ('+1', '202', '5555555')"
   ]
  },
  {
   "cell_type": "markdown",
   "metadata": {},
   "source": [
    "Instead of using a nested object to define country code and area code, we can use a tuple to quickly and efficiently store these fields."
   ]
  }
 ],
 "metadata": {
  "interpreter": {
   "hash": "b0fa6594d8f4cbf19f97940f81e996739fb7646882a419484c72d19e05852a7e"
  },
  "kernelspec": {
   "display_name": "Python 3.9.12 64-bit",
   "language": "python",
   "name": "python3"
  },
  "language_info": {
   "codemirror_mode": {
    "name": "ipython",
    "version": 3
   },
   "file_extension": ".py",
   "mimetype": "text/x-python",
   "name": "python",
   "nbconvert_exporter": "python",
   "pygments_lexer": "ipython3",
   "version": "3.9.12"
  },
  "orig_nbformat": 4
 },
 "nbformat": 4,
 "nbformat_minor": 2
}
