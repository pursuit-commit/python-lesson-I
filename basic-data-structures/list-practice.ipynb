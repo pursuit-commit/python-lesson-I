{
 "cells": [
  {
   "cell_type": "markdown",
   "metadata": {},
   "source": [
    "In this notebook, we will be covering the basic data structures in Python and how they correspond to data structures in Javascript.\n",
    "\n",
    "First, Python lists. While Python lists are comparable to arrays in Javascript, the list data structure comes with some additional functions that are specific to lists.\n",
    "\n",
    "\"A list is a collection which is ordered and changeable. Allows duplicate members.\""
   ]
  },
  {
   "cell_type": "code",
   "execution_count": null,
   "metadata": {},
   "outputs": [],
   "source": [
    "fruits = [\"apple\", \"banana\", \"cherry\", \"orange\", \"kiwi\", \"melon\", \"mango\"]"
   ]
  },
  {
   "cell_type": "code",
   "execution_count": null,
   "metadata": {},
   "outputs": [],
   "source": [
    "# first element in the list\n",
    "print(fruits[0])"
   ]
  },
  {
   "cell_type": "code",
   "execution_count": null,
   "metadata": {},
   "outputs": [],
   "source": [
    "# second to last element in the list -- using negative indexes starts from the end\n",
    "print(fruits[-2])"
   ]
  },
  {
   "cell_type": "markdown",
   "metadata": {},
   "source": [
    "You can also using the slicing syntax to access list elements...\n",
    "\n",
    "First index inclusive, second index exclusive"
   ]
  },
  {
   "cell_type": "code",
   "execution_count": null,
   "metadata": {},
   "outputs": [],
   "source": [
    "# second through 4th elements in the list\n",
    "print(fruits[1:4])"
   ]
  },
  {
   "cell_type": "markdown",
   "metadata": {},
   "source": [
    "Now lets look at the different ways you can insert an element into a list... You might run into any of these in your code base."
   ]
  },
  {
   "cell_type": "code",
   "execution_count": null,
   "metadata": {},
   "outputs": [],
   "source": [
    "# adding an element to the end of the list\n",
    "fruits.append(\"blueberry\")\n",
    "\n",
    "assert \"blueberry\" in fruits"
   ]
  },
  {
   "cell_type": "code",
   "execution_count": null,
   "metadata": {},
   "outputs": [],
   "source": [
    "# adding an element to a specific index\n",
    "fruits.insert(1, \"raspberry\")\n",
    "\n",
    "assert fruits[1] == \"raspberry\""
   ]
  },
  {
   "cell_type": "code",
   "execution_count": null,
   "metadata": {},
   "outputs": [],
   "source": [
    "# combining two lists together\n",
    "extraFruits = [\"grapefruit\", \"starfruit\"]\n",
    "fruits.extend(extraFruits)\n",
    "\n",
    "assert \"grapefruit\" in fruits and \"starfruit\" in fruits"
   ]
  },
  {
   "cell_type": "code",
   "execution_count": null,
   "metadata": {},
   "outputs": [],
   "source": [
    "# combining two lists together\n",
    "extraFruits = [\"honeydew\", \"cantaloupe\"]\n",
    "fruits = fruits + extraFruits\n",
    "\n",
    "assert \"honeydew\" in fruits and \"cantaloupe\" in fruits"
   ]
  },
  {
   "cell_type": "markdown",
   "metadata": {},
   "source": [
    "There are also a couple ways to remove elements from a list... Again, for awareness you might run into these as well throughout your codebase."
   ]
  },
  {
   "cell_type": "code",
   "execution_count": null,
   "metadata": {},
   "outputs": [],
   "source": [
    "# removing elements by value\n",
    "fruits.remove(\"honeydew\")\n",
    "\n",
    "assert \"honeydew\" not in fruits"
   ]
  },
  {
   "cell_type": "code",
   "execution_count": null,
   "metadata": {},
   "outputs": [],
   "source": [
    "# remove the last element from the list (and return it)\n",
    "lastElement = fruits.pop()\n",
    "\n",
    "print(lastElement)"
   ]
  },
  {
   "cell_type": "code",
   "execution_count": null,
   "metadata": {},
   "outputs": [],
   "source": [
    "# remove element by index (and return it)\n",
    "fourthElement = fruits.pop(3)\n",
    "\n",
    "print(fourthElement)"
   ]
  },
  {
   "cell_type": "code",
   "execution_count": null,
   "metadata": {},
   "outputs": [],
   "source": [
    "# remove element by index (no return)\n",
    "secondElement = fruits[1]\n",
    "del fruits[1]\n",
    "\n",
    "assert secondElement not in fruits"
   ]
  },
  {
   "cell_type": "markdown",
   "metadata": {},
   "source": [
    "Here's the go-to python list syntax"
   ]
  },
  {
   "cell_type": "code",
   "execution_count": null,
   "metadata": {},
   "outputs": [],
   "source": [
    "# for each loops in python\n",
    "for item in fruits:\n",
    "    print(item)"
   ]
  }
 ],
 "metadata": {
  "interpreter": {
   "hash": "b0fa6594d8f4cbf19f97940f81e996739fb7646882a419484c72d19e05852a7e"
  },
  "kernelspec": {
   "display_name": "Python 3.9.12 64-bit",
   "language": "python",
   "name": "python3"
  },
  "language_info": {
   "codemirror_mode": {
    "name": "ipython",
    "version": 3
   },
   "file_extension": ".py",
   "mimetype": "text/x-python",
   "name": "python",
   "nbconvert_exporter": "python",
   "pygments_lexer": "ipython3",
   "version": "3.9.12"
  },
  "orig_nbformat": 4
 },
 "nbformat": 4,
 "nbformat_minor": 2
}
