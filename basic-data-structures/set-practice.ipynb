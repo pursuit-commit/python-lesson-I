{
 "cells": [
  {
   "cell_type": "markdown",
   "metadata": {},
   "source": [
    "Python sets are the same as Javascript sets although they are a bit different to instantiate.\n",
    "\n",
    "\"Set is a collection which is unordered, unchangeable*, and unindexed. No duplicate members.\" -- for sets, unchangeable means you cannot change the individual item in a set, however you are able to add and remove items from sets."
   ]
  },
  {
   "cell_type": "code",
   "execution_count": null,
   "metadata": {},
   "outputs": [],
   "source": [
    "# setup -- you can instantiate a set using curly brackets\n",
    "# consoles = new Set([\"n64\", \"switch\", \"xbox360\", \"ps3\", \"ps4\", \"ps5\"])\n",
    "\n",
    "consoles = {\"n64\", \"switch\", \"xbox360\", \"ps3\", \"ps4\", \"ps5\"}\n",
    "print(type(consoles))"
   ]
  },
  {
   "cell_type": "markdown",
   "metadata": {},
   "source": [
    "Accessing items of a set is different than other data types. Since they are unordered and unindexed, there is no way to directly access one item. While you cannot access one item individually, you can loop through a set to access all elements."
   ]
  },
  {
   "cell_type": "code",
   "execution_count": null,
   "metadata": {},
   "outputs": [],
   "source": [
    "for element in consoles: \n",
    "    print(element)"
   ]
  },
  {
   "cell_type": "markdown",
   "metadata": {},
   "source": [
    "Now lets quickly cover adding and deleting elements from sets..."
   ]
  },
  {
   "cell_type": "code",
   "execution_count": null,
   "metadata": {},
   "outputs": [],
   "source": [
    "# adding a single element is probably my favorite\n",
    "consoles.add(\"xbox1\")\n",
    "\n",
    "assert \"xbox1\" in consoles"
   ]
  },
  {
   "cell_type": "code",
   "execution_count": null,
   "metadata": {},
   "outputs": [],
   "source": [
    "# you can add multiple items by combining an iterable (set, list, or tuple) with the original set\n",
    "nintendoConsoles = {\"gamecube\", \"wii\"}\n",
    "consoles.update(nintendoConsoles)\n",
    "\n",
    "assert \"wii\" in consoles\n",
    "\n",
    "sonyConsoles = [\"ps1\", \"ps2\"]\n",
    "consoles.update(sonyConsoles)\n",
    "\n",
    "assert \"ps1\" in consoles"
   ]
  },
  {
   "cell_type": "code",
   "execution_count": null,
   "metadata": {},
   "outputs": [],
   "source": [
    "# there are two \"legitimate\" options for removing an item from a set: remove and discard\n",
    "\n",
    "# discard will not throw an error if the element to delete is not present in the set\n",
    "consoles.discard(\"switch\")\n",
    "\n",
    "assert \"switch\" not in consoles\n",
    "\n",
    "# remove will throw an error if the element to delete is not present in the set\n",
    "try: \n",
    "    consoles.remove(\"switch\")\n",
    "except:\n",
    "    print(\"Exception thrown because switch was already removed\")\n",
    "\n",
    "# however when the element in present, remove works the same as discard\n",
    "consoles.remove(\"ps1\")\n",
    "\n",
    "assert \"ps1\" not in consoles\n"
   ]
  },
  {
   "cell_type": "markdown",
   "metadata": {},
   "source": [
    "Sets also include a couple functions that can be useful in certain situations.\n",
    "\n",
    "Union is the combination of two sets (maintains uniqueness so any overlap will NOT be double counted)\n",
    "\n",
    "Intersection is the overlap between two sets"
   ]
  },
  {
   "cell_type": "code",
   "execution_count": null,
   "metadata": {},
   "outputs": [],
   "source": [
    "newConsoles = {\"ps5\", \"Xbox Series X\", \"Switch Lite\"}\n",
    "\n",
    "print(\"Intersection: \", consoles.intersection(newConsoles))\n",
    "print(\"Union: \", consoles.union(newConsoles))"
   ]
  },
  {
   "cell_type": "code",
   "execution_count": null,
   "metadata": {},
   "outputs": [],
   "source": [
    "# you can also convert iterable types into other iterable types like so\n",
    "\n",
    "print(type(newConsoles), newConsoles)\n",
    "\n",
    "newConsolesList = list(newConsoles)\n",
    "# reversing this would be set(newConsolesList)\n",
    "\n",
    "print(type(newConsolesList), newConsolesList)"
   ]
  }
 ],
 "metadata": {
  "interpreter": {
   "hash": "b0fa6594d8f4cbf19f97940f81e996739fb7646882a419484c72d19e05852a7e"
  },
  "kernelspec": {
   "display_name": "Python 3.9.12 64-bit",
   "language": "python",
   "name": "python3"
  },
  "language_info": {
   "codemirror_mode": {
    "name": "ipython",
    "version": 3
   },
   "file_extension": ".py",
   "mimetype": "text/x-python",
   "name": "python",
   "nbconvert_exporter": "python",
   "pygments_lexer": "ipython3",
   "version": "3.9.12"
  },
  "orig_nbformat": 4
 },
 "nbformat": 4,
 "nbformat_minor": 2
}
